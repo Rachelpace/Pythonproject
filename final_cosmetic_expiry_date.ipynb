{
 "cells": [
  {
   "cell_type": "code",
   "execution_count": 2,
   "metadata": {},
   "outputs": [
    {
     "name": "stdout",
     "output_type": "stream",
     "text": [
      "피지오겔 AI 로션 유효기간이  895 days, 0:00:00 남았습니다.\n",
      "애터미 BB크림 사용기간이 지났습니다. 경과일수: 46 days, 0:00:00\n",
      "포니 립틴트 사용기간이 지났습니다. 경과일수: 77 days, 0:00:00\n",
      "페리페라 립틴트 사용기한은  2021-08-09 까지입니다.남은 일수: 174 days, 0:00:00\n",
      "랑콤 파운데이션 유효기간이  621 days, 0:00:00 남았습니다.\n",
      "비디비치 선크림 사용기한은  2021-07-04 까지입니다. 남은 일수: 138 days, 0:00:00\n",
      "피지오겔 DMT로션 사용기한은  2021-03-25 까지입니다.남은 일수: 37 days, 0:00:00\n",
      "지미추 향수 사용기한은  2022-10-01 까지입니다. 남은 일수: 592 days, 0:00:00\n",
      "일리윤 립밤 유효기간이 지났습니다.\n",
      "바세린 미러 립 사용기간이 지났습니다. 경과일수: 109 days, 0:00:00\n",
      "라네즈 크림스킨 샘플 유효기간이  940 days, 0:00:00 남았습니다.\n",
      "라네즈 세럼 샘플 유효기간이  935 days, 0:00:00 남았습니다.\n",
      "라네즈 폼클렌저 유효기간이  991 days, 0:00:00 남았습니다.\n"
     ]
    }
   ],
   "source": [
    "import csv\n",
    "from datetime import datetime, date,timedelta\n",
    "from dateutil.relativedelta import relativedelta\n",
    "\n",
    "f = open('cosmetic_info.csv','rt', encoding='UTF8')\n",
    "data = csv.reader(f)\n",
    "next(data)\n",
    "\n",
    "for row in data:\n",
    "    exp = date(int(row[2]),int(row[3]),int(row[4]))\n",
    "    current = date.today()\n",
    "    if exp < current:\n",
    "        print(row[0],\"유효기간이 지났습니다.\")\n",
    "    else:\n",
    "        if row[5]=='N':\n",
    "            if exp - timedelta(days=30) < current:\n",
    "                print(row[0],\"유효기간이 1개월 미만으로 남았습니다.\")\n",
    "            elif exp - timedelta(days=90) < current:\n",
    "                print(row[0],\"유효기간이 3개월 미만으로 남았습니다.\")\n",
    "            else:\n",
    "                print(row[0],\"유효기간이 \",exp-current,\"남았습니다.\")\n",
    "        elif row[5]=='Y':\n",
    "            open_date = date(int(row[6]),int(row[7]),int(row[8])) #개봉일\n",
    "            if current > open_date + relativedelta(months=int(row[10])): #오늘 날짜가 개봉일+사용기간을 지난 경우\n",
    "                print(row[0],\"사용기간이 지났습니다. 경과일수:\",current - (open_date + relativedelta(months=int(row[10]))))\n",
    "            else: #개봉 후 사용 기간이 남아있는 경우 (개봉일+사용기간이 오늘날짜보다 이후인 경우)\n",
    "                if exp > open_date + relativedelta(months=int(row[10])): #사용기한이 유통기한보다 먼저 도래하는 경우\n",
    "                    print(row[0], \"사용기한은 \", open_date + relativedelta(months=int(row[10])),\"까지입니다.남은 일수:\",open_date + relativedelta(months=int(row[10])) - current )\n",
    "                else: #유통기한이 사용기한보다 먼저 도래하는 경우\n",
    "                    print(row[0], \"사용기한은 \", exp, \"까지입니다. 남은 일수:\", exp - current)\n",
    "        "
   ]
  },
  {
   "cell_type": "code",
   "execution_count": null,
   "metadata": {},
   "outputs": [],
   "source": []
  }
 ],
 "metadata": {
  "kernelspec": {
   "display_name": "Python 3",
   "language": "python",
   "name": "python3"
  },
  "language_info": {
   "codemirror_mode": {
    "name": "ipython",
    "version": 3
   },
   "file_extension": ".py",
   "mimetype": "text/x-python",
   "name": "python",
   "nbconvert_exporter": "python",
   "pygments_lexer": "ipython3",
   "version": "3.8.5"
  }
 },
 "nbformat": 4,
 "nbformat_minor": 4
}
