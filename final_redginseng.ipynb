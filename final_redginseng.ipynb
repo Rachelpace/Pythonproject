{
 "cells": [
  {
   "cell_type": "code",
   "execution_count": null,
   "metadata": {},
   "outputs": [],
   "source": [
    "from selenium import webdriver\n",
    "from bs4 import BeautifulSoup\n",
    "driver = webdriver.Chrome('C:/Users/jeann/Documents/playwithdata/chromedriver.exe')\n",
    "url = 'http://search.danawa.com/dsearch.php?query=홍삼&volumeType=allvs&page=1&limit=40&sort=saveDESC&list=list&boost=true&addDelivery=N&attributeOption=2276|35496|228139|OR&recommendedSort=Y&defaultUICategoryCode=1622276&defaultPhysicsCategoryCode=46803%7C46817%7C46824%7C0&defaultVmTab=336&defaultVaTab=0&tab=goods'\n",
    "driver.get(url)"
   ]
  },
  {
   "cell_type": "code",
   "execution_count": null,
   "metadata": {},
   "outputs": [],
   "source": [
    "html = driver.page_source\n",
    "soup = BeautifulSoup(html,'html.parser')"
   ]
  },
  {
   "cell_type": "code",
   "execution_count": null,
   "metadata": {},
   "outputs": [],
   "source": [
    "prod_items = soup.select('ul.product_list > li.prod_item')\n",
    "len(prod_items)"
   ]
  },
  {
   "cell_type": "code",
   "execution_count": null,
   "metadata": {},
   "outputs": [],
   "source": [
    "net_items = soup.select(\"li[id^='productItem']\")\n",
    "len(net_items)"
   ]
  },
  {
   "cell_type": "code",
   "execution_count": null,
   "metadata": {},
   "outputs": [],
   "source": [
    "title = net_items[0].select('p.prod_name > a')[0].text.strip()\n",
    "print(title)"
   ]
  },
  {
   "cell_type": "code",
   "execution_count": null,
   "metadata": {},
   "outputs": [],
   "source": [
    "spec_list = net_items[0].select('div.spec_list')[0].text.strip()\n",
    "print(spec_list)"
   ]
  },
  {
   "cell_type": "code",
   "execution_count": null,
   "metadata": {},
   "outputs": [],
   "source": [
    "price = net_items[0].select('div.prod_pricelist > ul > li.rank_one > p.price_sect > a > strong')[0].text.strip().replace(\",\",\"\")\n",
    "print(price)"
   ]
  },
  {
   "cell_type": "code",
   "execution_count": null,
   "metadata": {},
   "outputs": [],
   "source": [
    "product_data = []\n",
    "\n",
    "for item in net_items:\n",
    "    try:\n",
    "        title = item.select('p.prod_name > a')[0].text.strip()\n",
    "    except:\n",
    "        title = ''\n",
    "    try:\n",
    "        spec_list = item.select('div.spec_list')[0].text.strip()\n",
    "    except:\n",
    "        spec_list =''\n",
    "    try:\n",
    "        price = item.select('div.prod_pricelist > ul > li.rank_one > p > a > strong')[0].text.strip().replace(\",\",\"\")\n",
    "    except:\n",
    "        price = 0\n",
    "    try:\n",
    "        unit_price = item.select('div.prod_pricelist > ul > li.rank_one > p.memory_sect > a > span.memory_price_sect > em.lowest')[0].text.strip().replace(\",\",\"\")\n",
    "    except:\n",
    "        unit_price = 0\n",
    "    \n",
    "    product_data.append([title,spec_list,price,unit_price])\n",
    "\n",
    "print(len(product_data))"
   ]
  },
  {
   "cell_type": "code",
   "execution_count": null,
   "metadata": {},
   "outputs": [],
   "source": [
    " def get_items(net_items):\n",
    "    product_data = []\n",
    "\n",
    "    for item in net_items:\n",
    "        try:\n",
    "            title = item.select('p.prod_name > a')[0].text.strip()\n",
    "        except:\n",
    "            title = ''\n",
    "        try:\n",
    "            spec_list = item.select('div.spec_list')[0].text.strip()\n",
    "        except:\n",
    "            spec_list =''\n",
    "        try:\n",
    "            price = item.select('div.prod_pricelist > ul > li.rank_one > p > a > strong')[0].text.strip().replace(\",\",\"\")\n",
    "        except:\n",
    "            price = 0\n",
    "        try:\n",
    "            unit_price = item.select('div.prod_pricelist > ul > li.rank_one > p.memory_sect > a > span.memory_price_sect > em.lowest')[0].text.strip().replace(\",\",\"\")\n",
    "        except:\n",
    "            unit_price = 0\n",
    "\n",
    "        product_data.append([title,spec_list,price,unit_price])\n",
    "        \n",
    "    return product_data"
   ]
  },
  {
   "cell_type": "code",
   "execution_count": null,
   "metadata": {},
   "outputs": [],
   "source": [
    "net_items = soup.select(\"li[id^='productItem']\")\n",
    "product_data = get_items(net_items)\n",
    "print(len(product_data))"
   ]
  },
  {
   "cell_type": "code",
   "execution_count": null,
   "metadata": {},
   "outputs": [],
   "source": [
    "def get_search_page_url(keyword, page):\n",
    "    return 'http://search.danawa.com/dsearch.php?query={}&volumeType=allvs&page={}&limit=40&sort=saveDESC&list=list&boost=true&addDelivery=N&attributeOption=2276|35496|228139|OR&recommendedSort=Y&defaultUICategoryCode=1622276&defaultPhysicsCategoryCode=46803%7C46817%7C46824%7C0&defaultVmTab=336&defaultVaTab=0&tab=goods'.format(keyword,page)\n",
    "\n",
    "keyword = '홍삼'\n",
    "page = 1\n",
    "url = get_search_page_url(keyword, page)\n",
    "print(url)"
   ]
  },
  {
   "cell_type": "code",
   "execution_count": null,
   "metadata": {},
   "outputs": [],
   "source": [
    "from selenium import webdriver\n",
    "import time\n",
    "from bs4 import BeautifulSoup\n",
    "from tqdm.notebook import tqdm\n",
    "\n",
    "driver = webdriver.Chrome('C:/Users/jeann/Documents/playwithdata/chromedriver.exe')\n",
    "\n",
    "driver.implicitly_wait(3)\n",
    "\n",
    "keyword = '홍삼'\n",
    "total_page = 9\n",
    "prod_data_total = []\n",
    "\n",
    "for page in tqdm(range(1,total_page +1)):\n",
    "    url = get_search_page_url(keyword,page)\n",
    "    driver.get(url)\n",
    "    time.sleep(5)\n",
    "    \n",
    "    html = driver.page_source\n",
    "    soup = BeautifulSoup(html,'html.parser')\n",
    "    \n",
    "    net_items = soup.select(\"li[id^='productItem']\")\n",
    "    item_list = get_items(net_items)\n",
    "    \n",
    "    prod_data_total += item_list"
   ]
  },
  {
   "cell_type": "code",
   "execution_count": null,
   "metadata": {},
   "outputs": [],
   "source": [
    "import pandas as pd\n",
    "data = pd.DataFrame(prod_data_total)\n",
    "data.columns = ['상품명','스펙목록','가격','단가']\n",
    "data.to_excel('./files/1_danawa_crawling_result.xlsx', index = False)"
   ]
  },
  {
   "cell_type": "code",
   "execution_count": null,
   "metadata": {},
   "outputs": [],
   "source": [
    "data = pd.read_excel('./files/1_danawa_crawling_result.xlsx')\n",
    "data.info()\n",
    "data.head()"
   ]
  },
  {
   "cell_type": "code",
   "execution_count": null,
   "metadata": {},
   "outputs": [],
   "source": [
    "# 10g당 단가를 10g당 진세노사이드 함량으로 나눠서 진세노사이드 1mg 당 단가를 추출하기 위한 전처리 (10g당 단가/10g당 진세노사이드 함량)\n",
    "# 수집시점 기준으로 총 335개의 리스트 추출됨\n",
    "ginseno_portion = []\n",
    "unit_price = []\n",
    "  \n",
    "\n",
    "for cost in data['단가']:        \n",
    "    if cost !=0:\n",
    "        price = int(cost.split('원')[0])\n",
    "    elif cost ==0:\n",
    "        price = 0\n",
    "    \n",
    "    unit_price.append(price)\n",
    "    \n",
    "\n",
    "for detail in data['스펙목록']:\n",
    "    spec_list = detail.split('/')\n",
    "\n",
    "    for spec in spec_list:\n",
    "        if '진세노사이드:' in spec:\n",
    "            ginseno = spec\n",
    "            ginseno_amount = ginseno.split(':')[1]\n",
    "            ginseno_per1g = float(ginseno_amount.split('mg')[0])\n",
    "            ginseno_per10g = ginseno_per1g *10\n",
    "\n",
    "    ginseno_portion.append(ginseno_per10g)\n",
    "\n",
    "    \n",
    "print(\"10g당 진세노함량: \",len(ginseno_portion), ginseno_portion[0:10])\n",
    "print(\"10g당 가격: \", len(unit_price),unit_price[0:10])"
   ]
  },
  {
   "cell_type": "code",
   "execution_count": null,
   "metadata": {},
   "outputs": [],
   "source": [
    "#홍삼농축액 함량만 따로 빼서 새로운 컬럼으로 구성하고, 이중에서 100%인 행만 추출하고자 함\n",
    "concentrate =[]\n",
    "\n",
    "for spec_data in data['스펙목록']:\n",
    "    spec_list = spec_data.split('/')\n",
    "    \n",
    "    percentile = None\n",
    "    \n",
    "    for spec in spec_list:\n",
    "        if '홍삼농축액' in spec:\n",
    "            percent = spec.split('홍삼농축액')[1]\n",
    "            percentile = percent.split('%')[0].strip()\n",
    "            \n",
    "    concentrate.append(percentile)"
   ]
  },
  {
   "cell_type": "code",
   "execution_count": null,
   "metadata": {},
   "outputs": [],
   "source": [
    "# 새로운 데이터 프레임으로 다시 구성 (홍삼농축액 함량, 10g당 진세노함량, 10g당 가격 정보를 추가로 생성함)\n",
    "pd_data = pd.DataFrame()\n",
    "pd_data['상품명'] = data['상품명']\n",
    "pd_data['스펙목록'] = data['스펙목록']\n",
    "pd_data['홍삼농축액 함량'] = concentrate\n",
    "pd_data['가격'] = data['가격']\n",
    "pd_data['10g당 진세노함량'] = ginseno_portion\n",
    "pd_data['10g당 가격'] = unit_price\n",
    "pd_data.head()"
   ]
  },
  {
   "cell_type": "code",
   "execution_count": null,
   "metadata": {},
   "outputs": [],
   "source": [
    "# 10g당 단가를 10g당 진세노사이드 함량으로 나눠서 진세노사이드 1mg 당 단가 추출작업 (10g당 단가/10g당 진세노사이드 함량)\n",
    "final_unit_price =[]\n",
    "\n",
    "for i in range(len(pd_data)):\n",
    "    unit_cost = pd_data['10g당 가격'][i]/pd_data['10g당 진세노함량'][i]\n",
    "    \n",
    "    final_unit_price.append(unit_cost)\n",
    "\n",
    "print(\"진세노 1mg당 가격: \", len(final_unit_price),final_unit_price[0:10])"
   ]
  },
  {
   "cell_type": "code",
   "execution_count": null,
   "metadata": {},
   "outputs": [],
   "source": [
    "#진세노사이드 1mg당 단가 자료에 해당하는 컬럼을 추가 (데이터가 제대로 나왔는지 확인하기 위해 draft 파일로 저장함)\n",
    "pd_data['진세노 1mg당 가격'] = final_unit_price\n",
    "pd_data.to_excel('./files/redginseng_draft.xlsx', index = False)"
   ]
  },
  {
   "cell_type": "code",
   "execution_count": null,
   "metadata": {},
   "outputs": [],
   "source": [
    "#홍삼농축액 함량 100%인 제품만 비교하기 위해 홍삼농축액 함량 100%인 제품만 필터링을 걸고, 이를 오름차순으로 정리함\n",
    "condition = pd_data['홍삼농축액 함량'].isin(['100'])\n",
    "condition2 = (pd_data['10g당 가격']==0)\n",
    "data1 = pd_data[condition]\n",
    "data2= data1[condition2 == False]\n",
    "final_list = data2.sort_values(['진세노 1mg당 가격'],ascending=True)\n",
    "final_list.head(10)"
   ]
  },
  {
   "cell_type": "code",
   "execution_count": null,
   "metadata": {},
   "outputs": [],
   "source": [
    "#홍삼 농축액 100%인 제품은 총 78개인 것으로 확인됨\n",
    "print(len(final_list))"
   ]
  },
  {
   "cell_type": "code",
   "execution_count": null,
   "metadata": {},
   "outputs": [],
   "source": [
    "final_list.to_excel('./files/redginseng_final.xlsx', index = False)"
   ]
  }
 ],
 "metadata": {
  "kernelspec": {
   "display_name": "Python 3",
   "language": "python",
   "name": "python3"
  },
  "language_info": {
   "codemirror_mode": {
    "name": "ipython",
    "version": 3
   },
   "file_extension": ".py",
   "mimetype": "text/x-python",
   "name": "python",
   "nbconvert_exporter": "python",
   "pygments_lexer": "ipython3",
   "version": "3.8.5"
  }
 },
 "nbformat": 4,
 "nbformat_minor": 4
}
